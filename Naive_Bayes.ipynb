{
  "nbformat": 4,
  "nbformat_minor": 0,
  "metadata": {
    "kernelspec": {
      "display_name": "Python 3",
      "language": "python",
      "name": "python3"
    },
    "language_info": {
      "codemirror_mode": {
        "name": "ipython",
        "version": 3
      },
      "file_extension": ".py",
      "mimetype": "text/x-python",
      "name": "python",
      "nbconvert_exporter": "python",
      "pygments_lexer": "ipython3",
      "version": "3.7.3"
    },
    "colab": {
      "name": "Naive_Bayes.ipynb",
      "provenance": [],
      "include_colab_link": true
    }
  },
  "cells": [
    {
      "cell_type": "markdown",
      "metadata": {
        "id": "view-in-github",
        "colab_type": "text"
      },
      "source": [
        "<a href=\"https://colab.research.google.com/github/nike-2001/ML-Workshop/blob/main/Naive_Bayes.ipynb\" target=\"_parent\"><img src=\"https://colab.research.google.com/assets/colab-badge.svg\" alt=\"Open In Colab\"/></a>"
      ]
    },
    {
      "cell_type": "code",
      "metadata": {
        "id": "oa0nc1CTn2be"
      },
      "source": [
        "import pandas as pd\n",
        "df = pd.read_csv(\"cleaned_76hd.csv\")"
      ],
      "execution_count": null,
      "outputs": []
    },
    {
      "cell_type": "code",
      "metadata": {
        "id": "J1a8VUJhn2bk",
        "outputId": "3cb0af85-4922-4dc3-c8b1-78fe4891c191"
      },
      "source": [
        "df.shape"
      ],
      "execution_count": null,
      "outputs": [
        {
          "output_type": "execute_result",
          "data": {
            "text/plain": [
              "(282, 46)"
            ]
          },
          "metadata": {
            "tags": []
          },
          "execution_count": 3
        }
      ]
    },
    {
      "cell_type": "code",
      "metadata": {
        "id": "kPoHA6ZXn2bl"
      },
      "source": [
        "# Separate Input features X and Class variable Y\n",
        "X = df.iloc[:,:-1]\n",
        "Y = df.iloc[:,-1]"
      ],
      "execution_count": null,
      "outputs": []
    },
    {
      "cell_type": "code",
      "metadata": {
        "id": "wUOeET8Yn2bl"
      },
      "source": [
        "from sklearn.model_selection import\\\n",
        "train_test_split\n",
        "# Split Training and Testing Data\n",
        "X_train,X_test,Y_train,Y_test = \\\n",
        "train_test_split(X,Y,test_size = 0.25,\\\n",
        "                 random_state=1)"
      ],
      "execution_count": null,
      "outputs": []
    },
    {
      "cell_type": "code",
      "metadata": {
        "id": "kjfbJv2kn2bm"
      },
      "source": [
        "from sklearn.naive_bayes import GaussianNB\n",
        "# Initialize a Naive Bayes Model\n",
        "model = GaussianNB()\n",
        "# P(A/B) = P(B/A) * P(A) / P(B)"
      ],
      "execution_count": null,
      "outputs": []
    },
    {
      "cell_type": "code",
      "metadata": {
        "id": "y5hotFngn2bm",
        "outputId": "5da98cf7-0453-4de4-d3f7-f34d78c60d61"
      },
      "source": [
        "# Fit the model on given Data\n",
        "model.fit(X_train,Y_train)"
      ],
      "execution_count": null,
      "outputs": [
        {
          "output_type": "execute_result",
          "data": {
            "text/plain": [
              "GaussianNB(priors=None, var_smoothing=1e-09)"
            ]
          },
          "metadata": {
            "tags": []
          },
          "execution_count": 7
        }
      ]
    },
    {
      "cell_type": "code",
      "metadata": {
        "id": "RKNFesN7n2bm",
        "outputId": "544a53cf-c17b-4966-8d4b-9382593954d6"
      },
      "source": [
        "model.class_prior_"
      ],
      "execution_count": null,
      "outputs": [
        {
          "output_type": "execute_result",
          "data": {
            "text/plain": [
              "array([0.507109, 0.492891])"
            ]
          },
          "metadata": {
            "tags": []
          },
          "execution_count": 8
        }
      ]
    },
    {
      "cell_type": "code",
      "metadata": {
        "id": "cCLT1Cs-n2bn",
        "outputId": "d5e4b817-6f9d-4160-a35f-3f4b08a56557"
      },
      "source": [
        "model.class_count_"
      ],
      "execution_count": null,
      "outputs": [
        {
          "output_type": "execute_result",
          "data": {
            "text/plain": [
              "array([107., 104.])"
            ]
          },
          "metadata": {
            "tags": []
          },
          "execution_count": 9
        }
      ]
    },
    {
      "cell_type": "code",
      "metadata": {
        "id": "3RzTUTdXn2bn"
      },
      "source": [
        "# Predict using Naive Bayes Model\n",
        "Y_predict = model.predict(X_test)"
      ],
      "execution_count": null,
      "outputs": []
    },
    {
      "cell_type": "code",
      "metadata": {
        "id": "UVM-1os6n2bn",
        "outputId": "a33b912b-f331-4eaf-a9fe-34f0cc315a59"
      },
      "source": [
        "from sklearn.metrics import\\\n",
        "confusion_matrix,accuracy_score\n",
        "# Calculate Confusion Matrix\n",
        "cf_mat=confusion_matrix(Y_test,Y_predict)\n",
        "\n",
        "# Calculate Accuracy\n",
        "acc = accuracy_score(Y_test,Y_predict)\n",
        "\n",
        "#Print Results\n",
        "print(\"Confusion Matrix \\n\",cf_mat)\n",
        "print(\"Accuracy : \",acc)"
      ],
      "execution_count": null,
      "outputs": [
        {
          "output_type": "stream",
          "text": [
            "Confusion Matrix \n",
            " [[46  1]\n",
            " [23  1]]\n",
            "Accuracy :  0.6619718309859155\n"
          ],
          "name": "stdout"
        }
      ]
    },
    {
      "cell_type": "code",
      "metadata": {
        "id": "daNcUlOQn2bo"
      },
      "source": [
        "from sklearn.tree import DecisionTreeClassifier\n",
        "model = DecisionTreeClassifier()"
      ],
      "execution_count": null,
      "outputs": []
    },
    {
      "cell_type": "code",
      "metadata": {
        "id": "qTN1ngd2n2bo",
        "outputId": "ba42107c-2e79-4dc6-de90-3e7d547f7641"
      },
      "source": [
        "model.fit(X_train,Y_train)"
      ],
      "execution_count": null,
      "outputs": [
        {
          "output_type": "execute_result",
          "data": {
            "text/plain": [
              "DecisionTreeClassifier(class_weight=None, criterion='gini', max_depth=None,\n",
              "                       max_features=None, max_leaf_nodes=None,\n",
              "                       min_impurity_decrease=0.0, min_impurity_split=None,\n",
              "                       min_samples_leaf=1, min_samples_split=2,\n",
              "                       min_weight_fraction_leaf=0.0, presort=False,\n",
              "                       random_state=None, splitter='best')"
            ]
          },
          "metadata": {
            "tags": []
          },
          "execution_count": 15
        }
      ]
    },
    {
      "cell_type": "code",
      "metadata": {
        "id": "ldwOUBten2bo"
      },
      "source": [
        "Y_predict=model.predict(X_test)"
      ],
      "execution_count": null,
      "outputs": []
    },
    {
      "cell_type": "code",
      "metadata": {
        "id": "-2Dk36B_n2bp",
        "outputId": "616c1a8c-cf90-423d-80f3-33bdfd9ab727"
      },
      "source": [
        "from sklearn.metrics import confusion_matrix,accuracy_score\n",
        "# Calculate Confusion Matrix\n",
        "cf_mat=confusion_matrix(Y_test,Y_predict)\n",
        "\n",
        "# Calculate Accuracy\n",
        "acc = accuracy_score(Y_test,Y_predict)\n",
        "\n",
        "#Print Results\n",
        "print(\"Confusion Matrix \\n\",cf_mat)\n",
        "print(\"Accuracy : \",acc)"
      ],
      "execution_count": null,
      "outputs": [
        {
          "output_type": "stream",
          "text": [
            "Confusion Matrix \n",
            " [[33 14]\n",
            " [ 7 17]]\n",
            "Accuracy :  0.704225352112676\n"
          ],
          "name": "stdout"
        }
      ]
    },
    {
      "cell_type": "code",
      "metadata": {
        "id": "FpKtVBjqn2bp"
      },
      "source": [
        ""
      ],
      "execution_count": null,
      "outputs": []
    }
  ]
}
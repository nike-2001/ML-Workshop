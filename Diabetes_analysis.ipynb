{
  "nbformat": 4,
  "nbformat_minor": 0,
  "metadata": {
    "kernelspec": {
      "display_name": "Python 3",
      "language": "python",
      "name": "python3"
    },
    "language_info": {
      "codemirror_mode": {
        "name": "ipython",
        "version": 3
      },
      "file_extension": ".py",
      "mimetype": "text/x-python",
      "name": "python",
      "nbconvert_exporter": "python",
      "pygments_lexer": "ipython3",
      "version": "3.7.3"
    },
    "colab": {
      "name": "Diabetes_analysis.ipynb",
      "provenance": [],
      "include_colab_link": true
    }
  },
  "cells": [
    {
      "cell_type": "markdown",
      "metadata": {
        "id": "view-in-github",
        "colab_type": "text"
      },
      "source": [
        "<a href=\"https://colab.research.google.com/github/nike-2001/ML-Workshop/blob/main/Diabetes_analysis.ipynb\" target=\"_parent\"><img src=\"https://colab.research.google.com/assets/colab-badge.svg\" alt=\"Open In Colab\"/></a>"
      ]
    },
    {
      "cell_type": "code",
      "metadata": {
        "id": "kqHHziZtSxha",
        "outputId": "9d21993e-b597-4999-a7e9-f212fc796ffe"
      },
      "source": [
        "import pandas as pd\n",
        "df = pd.read_csv(\"Diabetes.csv\")\n",
        "df.shape"
      ],
      "execution_count": null,
      "outputs": [
        {
          "output_type": "execute_result",
          "data": {
            "text/plain": [
              "(768, 9)"
            ]
          },
          "metadata": {
            "tags": []
          },
          "execution_count": 1
        }
      ]
    },
    {
      "cell_type": "code",
      "metadata": {
        "id": "VWeAA9qWSxhs",
        "outputId": "e4b53c10-96e4-4d73-e7ae-af3b7a76f606"
      },
      "source": [
        "print(df.columns)"
      ],
      "execution_count": null,
      "outputs": [
        {
          "output_type": "stream",
          "text": [
            "Index(['Pregnancies', 'PG Concentration', 'Diastolic BP', 'Tri Fold Thick',\n",
            "       'Serum Ins', 'BMI', 'DP Function', 'Age', 'Diabetes'],\n",
            "      dtype='object')\n"
          ],
          "name": "stdout"
        }
      ]
    },
    {
      "cell_type": "code",
      "metadata": {
        "id": "Vk6KzTu2Sxhu",
        "outputId": "37e9f983-1344-4cf1-ba00-db8a5062f513"
      },
      "source": [
        "df.head()"
      ],
      "execution_count": null,
      "outputs": [
        {
          "output_type": "execute_result",
          "data": {
            "text/html": [
              "<div>\n",
              "<style scoped>\n",
              "    .dataframe tbody tr th:only-of-type {\n",
              "        vertical-align: middle;\n",
              "    }\n",
              "\n",
              "    .dataframe tbody tr th {\n",
              "        vertical-align: top;\n",
              "    }\n",
              "\n",
              "    .dataframe thead th {\n",
              "        text-align: right;\n",
              "    }\n",
              "</style>\n",
              "<table border=\"1\" class=\"dataframe\">\n",
              "  <thead>\n",
              "    <tr style=\"text-align: right;\">\n",
              "      <th></th>\n",
              "      <th>Pregnancies</th>\n",
              "      <th>PG Concentration</th>\n",
              "      <th>Diastolic BP</th>\n",
              "      <th>Tri Fold Thick</th>\n",
              "      <th>Serum Ins</th>\n",
              "      <th>BMI</th>\n",
              "      <th>DP Function</th>\n",
              "      <th>Age</th>\n",
              "      <th>Diabetes</th>\n",
              "    </tr>\n",
              "  </thead>\n",
              "  <tbody>\n",
              "    <tr>\n",
              "      <th>0</th>\n",
              "      <td>6</td>\n",
              "      <td>148</td>\n",
              "      <td>72</td>\n",
              "      <td>35</td>\n",
              "      <td>0</td>\n",
              "      <td>33.6</td>\n",
              "      <td>0.627</td>\n",
              "      <td>50</td>\n",
              "      <td>1</td>\n",
              "    </tr>\n",
              "    <tr>\n",
              "      <th>1</th>\n",
              "      <td>1</td>\n",
              "      <td>85</td>\n",
              "      <td>66</td>\n",
              "      <td>29</td>\n",
              "      <td>0</td>\n",
              "      <td>26.6</td>\n",
              "      <td>0.351</td>\n",
              "      <td>31</td>\n",
              "      <td>0</td>\n",
              "    </tr>\n",
              "    <tr>\n",
              "      <th>2</th>\n",
              "      <td>8</td>\n",
              "      <td>183</td>\n",
              "      <td>64</td>\n",
              "      <td>0</td>\n",
              "      <td>0</td>\n",
              "      <td>23.3</td>\n",
              "      <td>0.672</td>\n",
              "      <td>32</td>\n",
              "      <td>1</td>\n",
              "    </tr>\n",
              "    <tr>\n",
              "      <th>3</th>\n",
              "      <td>1</td>\n",
              "      <td>89</td>\n",
              "      <td>66</td>\n",
              "      <td>23</td>\n",
              "      <td>94</td>\n",
              "      <td>28.1</td>\n",
              "      <td>0.167</td>\n",
              "      <td>21</td>\n",
              "      <td>0</td>\n",
              "    </tr>\n",
              "    <tr>\n",
              "      <th>4</th>\n",
              "      <td>0</td>\n",
              "      <td>137</td>\n",
              "      <td>40</td>\n",
              "      <td>35</td>\n",
              "      <td>168</td>\n",
              "      <td>43.1</td>\n",
              "      <td>2.288</td>\n",
              "      <td>33</td>\n",
              "      <td>1</td>\n",
              "    </tr>\n",
              "  </tbody>\n",
              "</table>\n",
              "</div>"
            ],
            "text/plain": [
              "   Pregnancies  PG Concentration  Diastolic BP  Tri Fold Thick  Serum Ins  \\\n",
              "0            6               148            72              35          0   \n",
              "1            1                85            66              29          0   \n",
              "2            8               183            64               0          0   \n",
              "3            1                89            66              23         94   \n",
              "4            0               137            40              35        168   \n",
              "\n",
              "    BMI  DP Function  Age  Diabetes  \n",
              "0  33.6        0.627   50         1  \n",
              "1  26.6        0.351   31         0  \n",
              "2  23.3        0.672   32         1  \n",
              "3  28.1        0.167   21         0  \n",
              "4  43.1        2.288   33         1  "
            ]
          },
          "metadata": {
            "tags": []
          },
          "execution_count": 3
        }
      ]
    },
    {
      "cell_type": "code",
      "metadata": {
        "id": "nfxc5RRgSxhv",
        "outputId": "279c64d2-ded7-4f61-b8e1-25a8c51b7788"
      },
      "source": [
        "df.dtypes"
      ],
      "execution_count": null,
      "outputs": [
        {
          "output_type": "execute_result",
          "data": {
            "text/plain": [
              "Pregnancies           int64\n",
              "PG Concentration      int64\n",
              "Diastolic BP          int64\n",
              "Tri Fold Thick        int64\n",
              "Serum Ins             int64\n",
              "BMI                 float64\n",
              "DP Function         float64\n",
              "Age                   int64\n",
              "Diabetes              int64\n",
              "dtype: object"
            ]
          },
          "metadata": {
            "tags": []
          },
          "execution_count": 4
        }
      ]
    },
    {
      "cell_type": "code",
      "metadata": {
        "id": "ZXZnQTYASxhw",
        "outputId": "e58a86f5-b482-482d-d552-8a7fbd3794e5"
      },
      "source": [
        "print(\"Columns with all null values are\")\n",
        "print(df.columns[df.isnull().all()])"
      ],
      "execution_count": null,
      "outputs": [
        {
          "output_type": "stream",
          "text": [
            "Columns with all null values are\n",
            "Index([], dtype='object')\n"
          ],
          "name": "stdout"
        }
      ]
    },
    {
      "cell_type": "code",
      "metadata": {
        "id": "ZzTo_a9RSxhy",
        "outputId": "47ea514a-29dc-435d-b62c-278e40825864"
      },
      "source": [
        "# Find rows with missing values greater than 50%\n",
        "print(df.isnull())\n",
        "print(df.isnull().sum(axis=1))\n",
        "df[df.isnull().sum(axis=1)>(df.shape[1]/2)]"
      ],
      "execution_count": null,
      "outputs": [
        {
          "output_type": "stream",
          "text": [
            "     Pregnancies  PG Concentration  Diastolic BP  Tri Fold Thick  Serum Ins  \\\n",
            "0          False             False         False           False      False   \n",
            "1          False             False         False           False      False   \n",
            "2          False             False         False           False      False   \n",
            "3          False             False         False           False      False   \n",
            "4          False             False         False           False      False   \n",
            "5          False             False         False           False      False   \n",
            "6          False             False         False           False      False   \n",
            "7          False             False         False           False      False   \n",
            "8          False             False         False           False      False   \n",
            "9          False             False         False           False      False   \n",
            "10         False             False         False           False      False   \n",
            "11         False             False         False           False      False   \n",
            "12         False             False         False           False      False   \n",
            "13         False             False         False           False      False   \n",
            "14         False             False         False           False      False   \n",
            "15         False             False         False           False      False   \n",
            "16         False             False         False           False      False   \n",
            "17         False             False         False           False      False   \n",
            "18         False             False         False           False      False   \n",
            "19         False             False         False           False      False   \n",
            "20         False             False         False           False      False   \n",
            "21         False             False         False           False      False   \n",
            "22         False             False         False           False      False   \n",
            "23         False             False         False           False      False   \n",
            "24         False             False         False           False      False   \n",
            "25         False             False         False           False      False   \n",
            "26         False             False         False           False      False   \n",
            "27         False             False         False           False      False   \n",
            "28         False             False         False           False      False   \n",
            "29         False             False         False           False      False   \n",
            "..           ...               ...           ...             ...        ...   \n",
            "738        False             False         False           False      False   \n",
            "739        False             False         False           False      False   \n",
            "740        False             False         False           False      False   \n",
            "741        False             False         False           False      False   \n",
            "742        False             False         False           False      False   \n",
            "743        False             False         False           False      False   \n",
            "744        False             False         False           False      False   \n",
            "745        False             False         False           False      False   \n",
            "746        False             False         False           False      False   \n",
            "747        False             False         False           False      False   \n",
            "748        False             False         False           False      False   \n",
            "749        False             False         False           False      False   \n",
            "750        False             False         False           False      False   \n",
            "751        False             False         False           False      False   \n",
            "752        False             False         False           False      False   \n",
            "753        False             False         False           False      False   \n",
            "754        False             False         False           False      False   \n",
            "755        False             False         False           False      False   \n",
            "756        False             False         False           False      False   \n",
            "757        False             False         False           False      False   \n",
            "758        False             False         False           False      False   \n",
            "759        False             False         False           False      False   \n",
            "760        False             False         False           False      False   \n",
            "761        False             False         False           False      False   \n",
            "762        False             False         False           False      False   \n",
            "763        False             False         False           False      False   \n",
            "764        False             False         False           False      False   \n",
            "765        False             False         False           False      False   \n",
            "766        False             False         False           False      False   \n",
            "767        False             False         False           False      False   \n",
            "\n",
            "       BMI  DP Function    Age  Diabetes  \n",
            "0    False        False  False     False  \n",
            "1    False        False  False     False  \n",
            "2    False        False  False     False  \n",
            "3    False        False  False     False  \n",
            "4    False        False  False     False  \n",
            "5    False        False  False     False  \n",
            "6    False        False  False     False  \n",
            "7    False        False  False     False  \n",
            "8    False        False  False     False  \n",
            "9    False        False  False     False  \n",
            "10   False        False  False     False  \n",
            "11   False        False  False     False  \n",
            "12   False        False  False     False  \n",
            "13   False        False  False     False  \n",
            "14   False        False  False     False  \n",
            "15   False        False  False     False  \n",
            "16   False        False  False     False  \n",
            "17   False        False  False     False  \n",
            "18   False        False  False     False  \n",
            "19   False        False  False     False  \n",
            "20   False        False  False     False  \n",
            "21   False        False  False     False  \n",
            "22   False        False  False     False  \n",
            "23   False        False  False     False  \n",
            "24   False        False  False     False  \n",
            "25   False        False  False     False  \n",
            "26   False        False  False     False  \n",
            "27   False        False  False     False  \n",
            "28   False        False  False     False  \n",
            "29   False        False  False     False  \n",
            "..     ...          ...    ...       ...  \n",
            "738  False        False  False     False  \n",
            "739  False        False  False     False  \n",
            "740  False        False  False     False  \n",
            "741  False        False  False     False  \n",
            "742  False        False  False     False  \n",
            "743  False        False  False     False  \n",
            "744  False        False  False     False  \n",
            "745  False        False  False     False  \n",
            "746  False        False  False     False  \n",
            "747  False        False  False     False  \n",
            "748  False        False  False     False  \n",
            "749  False        False  False     False  \n",
            "750  False        False  False     False  \n",
            "751  False        False  False     False  \n",
            "752  False        False  False     False  \n",
            "753  False        False  False     False  \n",
            "754  False        False  False     False  \n",
            "755  False        False  False     False  \n",
            "756  False        False  False     False  \n",
            "757  False        False  False     False  \n",
            "758  False        False  False     False  \n",
            "759  False        False  False     False  \n",
            "760  False        False  False     False  \n",
            "761  False        False  False     False  \n",
            "762  False        False  False     False  \n",
            "763  False        False  False     False  \n",
            "764  False        False  False     False  \n",
            "765  False        False  False     False  \n",
            "766  False        False  False     False  \n",
            "767  False        False  False     False  \n",
            "\n",
            "[768 rows x 9 columns]\n",
            "0      0\n",
            "1      0\n",
            "2      0\n",
            "3      0\n",
            "4      0\n",
            "5      0\n",
            "6      0\n",
            "7      0\n",
            "8      0\n",
            "9      0\n",
            "10     0\n",
            "11     0\n",
            "12     0\n",
            "13     0\n",
            "14     0\n",
            "15     0\n",
            "16     0\n",
            "17     0\n",
            "18     0\n",
            "19     0\n",
            "20     0\n",
            "21     0\n",
            "22     0\n",
            "23     0\n",
            "24     0\n",
            "25     0\n",
            "26     0\n",
            "27     0\n",
            "28     0\n",
            "29     0\n",
            "      ..\n",
            "738    0\n",
            "739    0\n",
            "740    0\n",
            "741    0\n",
            "742    0\n",
            "743    0\n",
            "744    0\n",
            "745    0\n",
            "746    0\n",
            "747    0\n",
            "748    0\n",
            "749    0\n",
            "750    0\n",
            "751    0\n",
            "752    0\n",
            "753    0\n",
            "754    0\n",
            "755    0\n",
            "756    0\n",
            "757    0\n",
            "758    0\n",
            "759    0\n",
            "760    0\n",
            "761    0\n",
            "762    0\n",
            "763    0\n",
            "764    0\n",
            "765    0\n",
            "766    0\n",
            "767    0\n",
            "Length: 768, dtype: int64\n"
          ],
          "name": "stdout"
        },
        {
          "output_type": "execute_result",
          "data": {
            "text/html": [
              "<div>\n",
              "<style scoped>\n",
              "    .dataframe tbody tr th:only-of-type {\n",
              "        vertical-align: middle;\n",
              "    }\n",
              "\n",
              "    .dataframe tbody tr th {\n",
              "        vertical-align: top;\n",
              "    }\n",
              "\n",
              "    .dataframe thead th {\n",
              "        text-align: right;\n",
              "    }\n",
              "</style>\n",
              "<table border=\"1\" class=\"dataframe\">\n",
              "  <thead>\n",
              "    <tr style=\"text-align: right;\">\n",
              "      <th></th>\n",
              "      <th>Pregnancies</th>\n",
              "      <th>PG Concentration</th>\n",
              "      <th>Diastolic BP</th>\n",
              "      <th>Tri Fold Thick</th>\n",
              "      <th>Serum Ins</th>\n",
              "      <th>BMI</th>\n",
              "      <th>DP Function</th>\n",
              "      <th>Age</th>\n",
              "      <th>Diabetes</th>\n",
              "    </tr>\n",
              "  </thead>\n",
              "  <tbody>\n",
              "  </tbody>\n",
              "</table>\n",
              "</div>"
            ],
            "text/plain": [
              "Empty DataFrame\n",
              "Columns: [Pregnancies, PG Concentration, Diastolic BP, Tri Fold Thick, Serum Ins, BMI, DP Function, Age, Diabetes]\n",
              "Index: []"
            ]
          },
          "metadata": {
            "tags": []
          },
          "execution_count": 6
        }
      ]
    },
    {
      "cell_type": "code",
      "metadata": {
        "id": "JVdXTsMqSxhz",
        "outputId": "3b6c0431-34b1-4121-c9d8-89efa25e431c"
      },
      "source": [
        "# Print colmuns that have minimum one NaN value\n",
        "df.columns[df.isna().any()]\n",
        "# df.isna().any()"
      ],
      "execution_count": null,
      "outputs": [
        {
          "output_type": "execute_result",
          "data": {
            "text/plain": [
              "Index([], dtype='object')"
            ]
          },
          "metadata": {
            "tags": []
          },
          "execution_count": 7
        }
      ]
    },
    {
      "cell_type": "code",
      "metadata": {
        "id": "K6CAjHMaSxh0",
        "outputId": "83b7658f-16f6-497a-bc97-6cb2e40094bd"
      },
      "source": [
        "df.describe(include= 'all') \n",
        "# Get statistical description of each column in data frame"
      ],
      "execution_count": null,
      "outputs": [
        {
          "output_type": "execute_result",
          "data": {
            "text/html": [
              "<div>\n",
              "<style scoped>\n",
              "    .dataframe tbody tr th:only-of-type {\n",
              "        vertical-align: middle;\n",
              "    }\n",
              "\n",
              "    .dataframe tbody tr th {\n",
              "        vertical-align: top;\n",
              "    }\n",
              "\n",
              "    .dataframe thead th {\n",
              "        text-align: right;\n",
              "    }\n",
              "</style>\n",
              "<table border=\"1\" class=\"dataframe\">\n",
              "  <thead>\n",
              "    <tr style=\"text-align: right;\">\n",
              "      <th></th>\n",
              "      <th>Pregnancies</th>\n",
              "      <th>PG Concentration</th>\n",
              "      <th>Diastolic BP</th>\n",
              "      <th>Tri Fold Thick</th>\n",
              "      <th>Serum Ins</th>\n",
              "      <th>BMI</th>\n",
              "      <th>DP Function</th>\n",
              "      <th>Age</th>\n",
              "      <th>Diabetes</th>\n",
              "    </tr>\n",
              "  </thead>\n",
              "  <tbody>\n",
              "    <tr>\n",
              "      <th>count</th>\n",
              "      <td>768.000000</td>\n",
              "      <td>768.000000</td>\n",
              "      <td>768.000000</td>\n",
              "      <td>768.000000</td>\n",
              "      <td>768.000000</td>\n",
              "      <td>768.000000</td>\n",
              "      <td>768.000000</td>\n",
              "      <td>768.000000</td>\n",
              "      <td>768.000000</td>\n",
              "    </tr>\n",
              "    <tr>\n",
              "      <th>mean</th>\n",
              "      <td>3.845052</td>\n",
              "      <td>120.894531</td>\n",
              "      <td>69.105469</td>\n",
              "      <td>20.536458</td>\n",
              "      <td>79.799479</td>\n",
              "      <td>31.992578</td>\n",
              "      <td>0.471876</td>\n",
              "      <td>33.240885</td>\n",
              "      <td>0.348958</td>\n",
              "    </tr>\n",
              "    <tr>\n",
              "      <th>std</th>\n",
              "      <td>3.369578</td>\n",
              "      <td>31.972618</td>\n",
              "      <td>19.355807</td>\n",
              "      <td>15.952218</td>\n",
              "      <td>115.244002</td>\n",
              "      <td>7.884160</td>\n",
              "      <td>0.331329</td>\n",
              "      <td>11.760232</td>\n",
              "      <td>0.476951</td>\n",
              "    </tr>\n",
              "    <tr>\n",
              "      <th>min</th>\n",
              "      <td>0.000000</td>\n",
              "      <td>0.000000</td>\n",
              "      <td>0.000000</td>\n",
              "      <td>0.000000</td>\n",
              "      <td>0.000000</td>\n",
              "      <td>0.000000</td>\n",
              "      <td>0.078000</td>\n",
              "      <td>21.000000</td>\n",
              "      <td>0.000000</td>\n",
              "    </tr>\n",
              "    <tr>\n",
              "      <th>25%</th>\n",
              "      <td>1.000000</td>\n",
              "      <td>99.000000</td>\n",
              "      <td>62.000000</td>\n",
              "      <td>0.000000</td>\n",
              "      <td>0.000000</td>\n",
              "      <td>27.300000</td>\n",
              "      <td>0.243750</td>\n",
              "      <td>24.000000</td>\n",
              "      <td>0.000000</td>\n",
              "    </tr>\n",
              "    <tr>\n",
              "      <th>50%</th>\n",
              "      <td>3.000000</td>\n",
              "      <td>117.000000</td>\n",
              "      <td>72.000000</td>\n",
              "      <td>23.000000</td>\n",
              "      <td>30.500000</td>\n",
              "      <td>32.000000</td>\n",
              "      <td>0.372500</td>\n",
              "      <td>29.000000</td>\n",
              "      <td>0.000000</td>\n",
              "    </tr>\n",
              "    <tr>\n",
              "      <th>75%</th>\n",
              "      <td>6.000000</td>\n",
              "      <td>140.250000</td>\n",
              "      <td>80.000000</td>\n",
              "      <td>32.000000</td>\n",
              "      <td>127.250000</td>\n",
              "      <td>36.600000</td>\n",
              "      <td>0.626250</td>\n",
              "      <td>41.000000</td>\n",
              "      <td>1.000000</td>\n",
              "    </tr>\n",
              "    <tr>\n",
              "      <th>max</th>\n",
              "      <td>17.000000</td>\n",
              "      <td>199.000000</td>\n",
              "      <td>122.000000</td>\n",
              "      <td>99.000000</td>\n",
              "      <td>846.000000</td>\n",
              "      <td>67.100000</td>\n",
              "      <td>2.420000</td>\n",
              "      <td>81.000000</td>\n",
              "      <td>1.000000</td>\n",
              "    </tr>\n",
              "  </tbody>\n",
              "</table>\n",
              "</div>"
            ],
            "text/plain": [
              "       Pregnancies  PG Concentration  Diastolic BP  Tri Fold Thick  \\\n",
              "count   768.000000        768.000000    768.000000      768.000000   \n",
              "mean      3.845052        120.894531     69.105469       20.536458   \n",
              "std       3.369578         31.972618     19.355807       15.952218   \n",
              "min       0.000000          0.000000      0.000000        0.000000   \n",
              "25%       1.000000         99.000000     62.000000        0.000000   \n",
              "50%       3.000000        117.000000     72.000000       23.000000   \n",
              "75%       6.000000        140.250000     80.000000       32.000000   \n",
              "max      17.000000        199.000000    122.000000       99.000000   \n",
              "\n",
              "        Serum Ins         BMI  DP Function         Age    Diabetes  \n",
              "count  768.000000  768.000000   768.000000  768.000000  768.000000  \n",
              "mean    79.799479   31.992578     0.471876   33.240885    0.348958  \n",
              "std    115.244002    7.884160     0.331329   11.760232    0.476951  \n",
              "min      0.000000    0.000000     0.078000   21.000000    0.000000  \n",
              "25%      0.000000   27.300000     0.243750   24.000000    0.000000  \n",
              "50%     30.500000   32.000000     0.372500   29.000000    0.000000  \n",
              "75%    127.250000   36.600000     0.626250   41.000000    1.000000  \n",
              "max    846.000000   67.100000     2.420000   81.000000    1.000000  "
            ]
          },
          "metadata": {
            "tags": []
          },
          "execution_count": 8
        }
      ]
    },
    {
      "cell_type": "code",
      "metadata": {
        "id": "EOUKfW04Sxh2"
      },
      "source": [
        "# Normalize the data\n",
        "from sklearn import preprocessing\n",
        "\n",
        "x = df.values #returns a numpy array\n",
        "min_max_scaler = preprocessing.MinMaxScaler()\n",
        "x_scaled = min_max_scaler.fit_transform(x)\n",
        "df = pd.DataFrame(x_scaled,columns=df.columns)"
      ],
      "execution_count": null,
      "outputs": []
    },
    {
      "cell_type": "code",
      "metadata": {
        "id": "hGWce3gaSxh2",
        "outputId": "39a1a30b-ecab-4284-fe1f-4cb80206ca2a"
      },
      "source": [
        "df.describe(include= 'all')"
      ],
      "execution_count": null,
      "outputs": [
        {
          "output_type": "execute_result",
          "data": {
            "text/html": [
              "<div>\n",
              "<style scoped>\n",
              "    .dataframe tbody tr th:only-of-type {\n",
              "        vertical-align: middle;\n",
              "    }\n",
              "\n",
              "    .dataframe tbody tr th {\n",
              "        vertical-align: top;\n",
              "    }\n",
              "\n",
              "    .dataframe thead th {\n",
              "        text-align: right;\n",
              "    }\n",
              "</style>\n",
              "<table border=\"1\" class=\"dataframe\">\n",
              "  <thead>\n",
              "    <tr style=\"text-align: right;\">\n",
              "      <th></th>\n",
              "      <th>Pregnancies</th>\n",
              "      <th>PG Concentration</th>\n",
              "      <th>Diastolic BP</th>\n",
              "      <th>Tri Fold Thick</th>\n",
              "      <th>Serum Ins</th>\n",
              "      <th>BMI</th>\n",
              "      <th>DP Function</th>\n",
              "      <th>Age</th>\n",
              "      <th>Diabetes</th>\n",
              "    </tr>\n",
              "  </thead>\n",
              "  <tbody>\n",
              "    <tr>\n",
              "      <th>count</th>\n",
              "      <td>768.000000</td>\n",
              "      <td>768.000000</td>\n",
              "      <td>768.000000</td>\n",
              "      <td>768.000000</td>\n",
              "      <td>768.000000</td>\n",
              "      <td>768.000000</td>\n",
              "      <td>768.000000</td>\n",
              "      <td>768.000000</td>\n",
              "      <td>768.000000</td>\n",
              "    </tr>\n",
              "    <tr>\n",
              "      <th>mean</th>\n",
              "      <td>0.226180</td>\n",
              "      <td>0.607510</td>\n",
              "      <td>0.566438</td>\n",
              "      <td>0.207439</td>\n",
              "      <td>0.094326</td>\n",
              "      <td>0.476790</td>\n",
              "      <td>0.168179</td>\n",
              "      <td>0.204015</td>\n",
              "      <td>0.348958</td>\n",
              "    </tr>\n",
              "    <tr>\n",
              "      <th>std</th>\n",
              "      <td>0.198210</td>\n",
              "      <td>0.160666</td>\n",
              "      <td>0.158654</td>\n",
              "      <td>0.161134</td>\n",
              "      <td>0.136222</td>\n",
              "      <td>0.117499</td>\n",
              "      <td>0.141473</td>\n",
              "      <td>0.196004</td>\n",
              "      <td>0.476951</td>\n",
              "    </tr>\n",
              "    <tr>\n",
              "      <th>min</th>\n",
              "      <td>0.000000</td>\n",
              "      <td>0.000000</td>\n",
              "      <td>0.000000</td>\n",
              "      <td>0.000000</td>\n",
              "      <td>0.000000</td>\n",
              "      <td>0.000000</td>\n",
              "      <td>0.000000</td>\n",
              "      <td>0.000000</td>\n",
              "      <td>0.000000</td>\n",
              "    </tr>\n",
              "    <tr>\n",
              "      <th>25%</th>\n",
              "      <td>0.058824</td>\n",
              "      <td>0.497487</td>\n",
              "      <td>0.508197</td>\n",
              "      <td>0.000000</td>\n",
              "      <td>0.000000</td>\n",
              "      <td>0.406855</td>\n",
              "      <td>0.070773</td>\n",
              "      <td>0.050000</td>\n",
              "      <td>0.000000</td>\n",
              "    </tr>\n",
              "    <tr>\n",
              "      <th>50%</th>\n",
              "      <td>0.176471</td>\n",
              "      <td>0.587940</td>\n",
              "      <td>0.590164</td>\n",
              "      <td>0.232323</td>\n",
              "      <td>0.036052</td>\n",
              "      <td>0.476900</td>\n",
              "      <td>0.125747</td>\n",
              "      <td>0.133333</td>\n",
              "      <td>0.000000</td>\n",
              "    </tr>\n",
              "    <tr>\n",
              "      <th>75%</th>\n",
              "      <td>0.352941</td>\n",
              "      <td>0.704774</td>\n",
              "      <td>0.655738</td>\n",
              "      <td>0.323232</td>\n",
              "      <td>0.150414</td>\n",
              "      <td>0.545455</td>\n",
              "      <td>0.234095</td>\n",
              "      <td>0.333333</td>\n",
              "      <td>1.000000</td>\n",
              "    </tr>\n",
              "    <tr>\n",
              "      <th>max</th>\n",
              "      <td>1.000000</td>\n",
              "      <td>1.000000</td>\n",
              "      <td>1.000000</td>\n",
              "      <td>1.000000</td>\n",
              "      <td>1.000000</td>\n",
              "      <td>1.000000</td>\n",
              "      <td>1.000000</td>\n",
              "      <td>1.000000</td>\n",
              "      <td>1.000000</td>\n",
              "    </tr>\n",
              "  </tbody>\n",
              "</table>\n",
              "</div>"
            ],
            "text/plain": [
              "       Pregnancies  PG Concentration  Diastolic BP  Tri Fold Thick  \\\n",
              "count   768.000000        768.000000    768.000000      768.000000   \n",
              "mean      0.226180          0.607510      0.566438        0.207439   \n",
              "std       0.198210          0.160666      0.158654        0.161134   \n",
              "min       0.000000          0.000000      0.000000        0.000000   \n",
              "25%       0.058824          0.497487      0.508197        0.000000   \n",
              "50%       0.176471          0.587940      0.590164        0.232323   \n",
              "75%       0.352941          0.704774      0.655738        0.323232   \n",
              "max       1.000000          1.000000      1.000000        1.000000   \n",
              "\n",
              "        Serum Ins         BMI  DP Function         Age    Diabetes  \n",
              "count  768.000000  768.000000   768.000000  768.000000  768.000000  \n",
              "mean     0.094326    0.476790     0.168179    0.204015    0.348958  \n",
              "std      0.136222    0.117499     0.141473    0.196004    0.476951  \n",
              "min      0.000000    0.000000     0.000000    0.000000    0.000000  \n",
              "25%      0.000000    0.406855     0.070773    0.050000    0.000000  \n",
              "50%      0.036052    0.476900     0.125747    0.133333    0.000000  \n",
              "75%      0.150414    0.545455     0.234095    0.333333    1.000000  \n",
              "max      1.000000    1.000000     1.000000    1.000000    1.000000  "
            ]
          },
          "metadata": {
            "tags": []
          },
          "execution_count": 10
        }
      ]
    },
    {
      "cell_type": "code",
      "metadata": {
        "id": "CFseKqWfSxh3",
        "outputId": "e5e61fe5-1269-40c7-a77d-3d2ffdc77b66"
      },
      "source": [
        "# Plot histogram of each column separately\n",
        "import matplotlib.pyplot as plt\n",
        "fig = plt.figure(figsize = (8,8))\n",
        "ax = fig.gca()\n",
        "df.hist(ax=ax)\n",
        "plt.show()"
      ],
      "execution_count": null,
      "outputs": [
        {
          "output_type": "display_data",
          "data": {
            "image/png": "[encoded data removed]",
            "text/plain": [
              "<Figure size 576x576 with 9 Axes>"
            ]
          },
          "metadata": {
            "tags": [],
            "needs_background": "light"
          }
        }
      ]
    },
    {
      "cell_type": "code",
      "metadata": {
        "id": "URydzk1pSxh4",
        "outputId": "91c8fcf0-63cb-488b-dc2b-fd3cd328aef7"
      },
      "source": [
        "df.iloc[:,:3].boxplot()"
      ],
      "execution_count": null,
      "outputs": [
        {
          "output_type": "execute_result",
          "data": {
            "text/plain": [
              "<matplotlib.axes._subplots.AxesSubplot at 0x7fee5ca55518>"
            ]
          },
          "metadata": {
            "tags": []
          },
          "execution_count": 14
        },
        {
          "output_type": "display_data",
          "data": {
            "image/png": "[encoded data removed]",
            "text/plain": [
              "<Figure size 432x288 with 1 Axes>"
            ]
          },
          "metadata": {
            "tags": [],
            "needs_background": "light"
          }
        }
      ]
    },
    {
      "cell_type": "code",
      "metadata": {
        "id": "6Aqom2PlSxh5",
        "outputId": "71d78975-d2fd-4acd-9214-447a5fa72131"
      },
      "source": [
        "df.plot.scatter(x='PG Concentration',\\\n",
        "                y='Diastolic BP')"
      ],
      "execution_count": null,
      "outputs": [
        {
          "output_type": "execute_result",
          "data": {
            "text/plain": [
              "<matplotlib.axes._subplots.AxesSubplot at 0x7fee5c910128>"
            ]
          },
          "metadata": {
            "tags": []
          },
          "execution_count": 15
        },
        {
          "output_type": "display_data",
          "data": {
            "image/png": "[encoded data removed]",
            "text/plain": [
              "<Figure size 432x288 with 1 Axes>"
            ]
          },
          "metadata": {
            "tags": [],
            "needs_background": "light"
          }
        }
      ]
    }
  ]
}
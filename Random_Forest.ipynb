{
  "nbformat": 4,
  "nbformat_minor": 0,
  "metadata": {
    "kernelspec": {
      "display_name": "Python 3",
      "language": "python",
      "name": "python3"
    },
    "language_info": {
      "codemirror_mode": {
        "name": "ipython",
        "version": 3
      },
      "file_extension": ".py",
      "mimetype": "text/x-python",
      "name": "python",
      "nbconvert_exporter": "python",
      "pygments_lexer": "ipython3",
      "version": "3.7.3"
    },
    "colab": {
      "name": "Random_Forest.ipynb",
      "provenance": [],
      "include_colab_link": true
    }
  },
  "cells": [
    {
      "cell_type": "markdown",
      "metadata": {
        "id": "view-in-github",
        "colab_type": "text"
      },
      "source": [
        "<a href=\"https://colab.research.google.com/github/nike-2001/ML-Workshop/blob/main/Random_Forest.ipynb\" target=\"_parent\"><img src=\"https://colab.research.google.com/assets/colab-badge.svg\" alt=\"Open In Colab\"/></a>"
      ]
    },
    {
      "cell_type": "markdown",
      "metadata": {
        "id": "SE3yKyfmoTiH"
      },
      "source": [
        "# Random Forest Classification\n",
        "\"\"\"\n",
        "Variance is the amount that the estimate of the target function will change \n",
        "if different training data was used.\n",
        "\n",
        "Ideally, it should not change too much from one training dataset to the next, \n",
        "meaning that the algorithm is good at picking out the hidden underlying \n",
        "mapping between the inputs and the output variables.\n",
        "\"\"\""
      ]
    },
    {
      "cell_type": "code",
      "metadata": {
        "id": "xpVJq2EjoTiJ"
      },
      "source": [
        "from pandas import read_csv\n",
        "from sklearn.model_selection import KFold\n",
        "from sklearn.model_selection import cross_val_score\n",
        "import matplotlib.pyplot as plt"
      ],
      "execution_count": null,
      "outputs": []
    },
    {
      "cell_type": "code",
      "metadata": {
        "id": "2qQ81pwooTiJ",
        "outputId": "60ccd2dc-91d2-4161-c116-19d23d14eb2a"
      },
      "source": [
        "filename = \"Diabetes.csv\"\n",
        "dataframe = read_csv(filename)\n",
        "dataframe.shape"
      ],
      "execution_count": null,
      "outputs": [
        {
          "output_type": "execute_result",
          "data": {
            "text/plain": [
              "(768, 9)"
            ]
          },
          "metadata": {
            "tags": []
          },
          "execution_count": 3
        }
      ]
    },
    {
      "cell_type": "code",
      "metadata": {
        "id": "AgV-6V-AoTiK",
        "outputId": "2e8330c6-c428-46b2-aa88-64bdb45d95f6"
      },
      "source": [
        "dataframe.head()"
      ],
      "execution_count": null,
      "outputs": [
        {
          "output_type": "execute_result",
          "data": {
            "text/html": [
              "<div>\n",
              "<style scoped>\n",
              "    .dataframe tbody tr th:only-of-type {\n",
              "        vertical-align: middle;\n",
              "    }\n",
              "\n",
              "    .dataframe tbody tr th {\n",
              "        vertical-align: top;\n",
              "    }\n",
              "\n",
              "    .dataframe thead th {\n",
              "        text-align: right;\n",
              "    }\n",
              "</style>\n",
              "<table border=\"1\" class=\"dataframe\">\n",
              "  <thead>\n",
              "    <tr style=\"text-align: right;\">\n",
              "      <th></th>\n",
              "      <th>Pregnancies</th>\n",
              "      <th>PG Concentration</th>\n",
              "      <th>Diastolic BP</th>\n",
              "      <th>Tri Fold Thick</th>\n",
              "      <th>Serum Ins</th>\n",
              "      <th>BMI</th>\n",
              "      <th>DP Function</th>\n",
              "      <th>Age</th>\n",
              "      <th>Diabetes</th>\n",
              "    </tr>\n",
              "  </thead>\n",
              "  <tbody>\n",
              "    <tr>\n",
              "      <th>0</th>\n",
              "      <td>6</td>\n",
              "      <td>148</td>\n",
              "      <td>72</td>\n",
              "      <td>35</td>\n",
              "      <td>0</td>\n",
              "      <td>33.6</td>\n",
              "      <td>0.627</td>\n",
              "      <td>50</td>\n",
              "      <td>1</td>\n",
              "    </tr>\n",
              "    <tr>\n",
              "      <th>1</th>\n",
              "      <td>1</td>\n",
              "      <td>85</td>\n",
              "      <td>66</td>\n",
              "      <td>29</td>\n",
              "      <td>0</td>\n",
              "      <td>26.6</td>\n",
              "      <td>0.351</td>\n",
              "      <td>31</td>\n",
              "      <td>0</td>\n",
              "    </tr>\n",
              "    <tr>\n",
              "      <th>2</th>\n",
              "      <td>8</td>\n",
              "      <td>183</td>\n",
              "      <td>64</td>\n",
              "      <td>0</td>\n",
              "      <td>0</td>\n",
              "      <td>23.3</td>\n",
              "      <td>0.672</td>\n",
              "      <td>32</td>\n",
              "      <td>1</td>\n",
              "    </tr>\n",
              "    <tr>\n",
              "      <th>3</th>\n",
              "      <td>1</td>\n",
              "      <td>89</td>\n",
              "      <td>66</td>\n",
              "      <td>23</td>\n",
              "      <td>94</td>\n",
              "      <td>28.1</td>\n",
              "      <td>0.167</td>\n",
              "      <td>21</td>\n",
              "      <td>0</td>\n",
              "    </tr>\n",
              "    <tr>\n",
              "      <th>4</th>\n",
              "      <td>0</td>\n",
              "      <td>137</td>\n",
              "      <td>40</td>\n",
              "      <td>35</td>\n",
              "      <td>168</td>\n",
              "      <td>43.1</td>\n",
              "      <td>2.288</td>\n",
              "      <td>33</td>\n",
              "      <td>1</td>\n",
              "    </tr>\n",
              "  </tbody>\n",
              "</table>\n",
              "</div>"
            ],
            "text/plain": [
              "   Pregnancies  PG Concentration  Diastolic BP  Tri Fold Thick  Serum Ins  \\\n",
              "0            6               148            72              35          0   \n",
              "1            1                85            66              29          0   \n",
              "2            8               183            64               0          0   \n",
              "3            1                89            66              23         94   \n",
              "4            0               137            40              35        168   \n",
              "\n",
              "    BMI  DP Function  Age  Diabetes  \n",
              "0  33.6        0.627   50         1  \n",
              "1  26.6        0.351   31         0  \n",
              "2  23.3        0.672   32         1  \n",
              "3  28.1        0.167   21         0  \n",
              "4  43.1        2.288   33         1  "
            ]
          },
          "metadata": {
            "tags": []
          },
          "execution_count": 4
        }
      ]
    },
    {
      "cell_type": "code",
      "metadata": {
        "id": "_t239VyHoTiK",
        "outputId": "6e5c2cdd-ca4e-49d1-8265-1fa4a469c144"
      },
      "source": [
        "dataframe.hist()"
      ],
      "execution_count": null,
      "outputs": [
        {
          "output_type": "execute_result",
          "data": {
            "text/plain": [
              "array([[<matplotlib.axes._subplots.AxesSubplot object at 0x7fafa309e6d8>,\n",
              "        <matplotlib.axes._subplots.AxesSubplot object at 0x7fafa2c314e0>,\n",
              "        <matplotlib.axes._subplots.AxesSubplot object at 0x7fafa2bcdb70>],\n",
              "       [<matplotlib.axes._subplots.AxesSubplot object at 0x7fafa2bfe240>,\n",
              "        <matplotlib.axes._subplots.AxesSubplot object at 0x7fafa2ba38d0>,\n",
              "        <matplotlib.axes._subplots.AxesSubplot object at 0x7fafa2ba3908>],\n",
              "       [<matplotlib.axes._subplots.AxesSubplot object at 0x7fafa2b80630>,\n",
              "        <matplotlib.axes._subplots.AxesSubplot object at 0x7fafa2b28cc0>,\n",
              "        <matplotlib.axes._subplots.AxesSubplot object at 0x7fafa2ad8390>]],\n",
              "      dtype=object)"
            ]
          },
          "metadata": {
            "tags": []
          },
          "execution_count": 7
        },
        {
          "output_type": "display_data",
          "data": {
            "image/png": "[encoded data removed]",
            "text/plain": [
              "<Figure size 432x288 with 9 Axes>"
            ]
          },
          "metadata": {
            "tags": [],
            "needs_background": "light"
          }
        }
      ]
    },
    {
      "cell_type": "code",
      "metadata": {
        "id": "dF61mS7poTiL"
      },
      "source": [
        "array = dataframe.values\n",
        "X = array[:,0:8]\n",
        "Y = array[:,8]"
      ],
      "execution_count": null,
      "outputs": []
    },
    {
      "cell_type": "code",
      "metadata": {
        "id": "D6c2NsZSoTiL"
      },
      "source": [
        "from sklearn.ensemble import RandomForestClassifier\n",
        "num_trees = 10 #100\n",
        "max_features = 3\n",
        "model = RandomForestClassifier(n_estimators=num_trees, max_features=max_features,\\\n",
        "                              verbose=0,random_state=1)"
      ],
      "execution_count": null,
      "outputs": []
    },
    {
      "cell_type": "code",
      "metadata": {
        "id": "y5AB_tWRoTiL"
      },
      "source": [
        "kfold = KFold(n_splits=10, random_state=7)"
      ],
      "execution_count": null,
      "outputs": []
    },
    {
      "cell_type": "code",
      "metadata": {
        "id": "hnh1_eh7oTiM",
        "outputId": "99875c3d-d158-47c6-9c3d-0f54474c09d8"
      },
      "source": [
        "results = cross_val_score(model, X, Y, cv=kfold)\n",
        "print(results.mean())"
      ],
      "execution_count": null,
      "outputs": [
        {
          "output_type": "stream",
          "text": [
            "0.7499829118250172\n"
          ],
          "name": "stdout"
        }
      ]
    },
    {
      "cell_type": "code",
      "metadata": {
        "id": "hcHsNJtioTiM"
      },
      "source": [
        ""
      ],
      "execution_count": null,
      "outputs": []
    }
  ]
}